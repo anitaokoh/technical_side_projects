{
 "cells": [
  {
   "cell_type": "code",
   "execution_count": 1,
   "metadata": {},
   "outputs": [
    {
     "name": "stdout",
     "output_type": "stream",
     "text": [
      "Requirement already satisfied: kaggle in /Users/a.okoh/opt/miniconda3/lib/python3.8/site-packages (1.5.12)\n",
      "Requirement already satisfied: requests in /Users/a.okoh/opt/miniconda3/lib/python3.8/site-packages (from kaggle) (2.28.1)\n",
      "Requirement already satisfied: six>=1.10 in /Users/a.okoh/opt/miniconda3/lib/python3.8/site-packages (from kaggle) (1.16.0)\n",
      "Requirement already satisfied: urllib3 in /Users/a.okoh/opt/miniconda3/lib/python3.8/site-packages (from kaggle) (1.26.6)\n",
      "Requirement already satisfied: python-dateutil in /Users/a.okoh/opt/miniconda3/lib/python3.8/site-packages (from kaggle) (2.8.2)\n",
      "Requirement already satisfied: certifi in /Users/a.okoh/opt/miniconda3/lib/python3.8/site-packages (from kaggle) (2022.12.7)\n",
      "Requirement already satisfied: tqdm in /Users/a.okoh/opt/miniconda3/lib/python3.8/site-packages (from kaggle) (4.61.2)\n",
      "Requirement already satisfied: python-slugify in /Users/a.okoh/opt/miniconda3/lib/python3.8/site-packages (from kaggle) (7.0.0)\n",
      "Requirement already satisfied: text-unidecode>=1.3 in /Users/a.okoh/opt/miniconda3/lib/python3.8/site-packages (from python-slugify->kaggle) (1.3)\n",
      "Requirement already satisfied: idna<4,>=2.5 in /Users/a.okoh/opt/miniconda3/lib/python3.8/site-packages (from requests->kaggle) (2.10)\n",
      "Requirement already satisfied: charset-normalizer<3,>=2 in /Users/a.okoh/opt/miniconda3/lib/python3.8/site-packages (from requests->kaggle) (2.1.1)\n",
      "mkdir: .kaggle: File exists\n",
      "imdb-large-movie-review-dataset-binary-sentiment.zip: Skipping, found more recently modified local copy (use --force to force download)\n",
      "Archive:  imdb-large-movie-review-dataset-binary-sentiment.zip\n",
      "  inflating: test.csv                \n",
      "  inflating: train.csv               \n",
      "  inflating: unsupervised.csv        \n"
     ]
    }
   ],
   "source": [
    "!pip install kaggle\n",
    "!mkdir .kaggle\n",
    "!cp ../kaggle.json ~/.kaggle/kaggle.json\n",
    "!kaggle datasets download -d thedevastator/imdb-large-movie-review-dataset-binary-sentiment\n",
    "!unzip imdb-large-movie-review-dataset-binary-sentiment.zip"
   ]
  },
  {
   "cell_type": "code",
   "execution_count": 2,
   "metadata": {},
   "outputs": [
    {
     "name": "stdout",
     "output_type": "stream",
     "text": [
      "Requirement already satisfied: seaborn in /Users/a.okoh/opt/miniconda3/lib/python3.8/site-packages (0.12.1)\n",
      "Requirement already satisfied: pandarallel in /Users/a.okoh/opt/miniconda3/lib/python3.8/site-packages (1.6.3)\n",
      "Requirement already satisfied: ipywidgets in /Users/a.okoh/opt/miniconda3/lib/python3.8/site-packages (8.0.4)\n",
      "Requirement already satisfied: yellowbrick in /Users/a.okoh/opt/miniconda3/lib/python3.8/site-packages (1.5)\n",
      "Requirement already satisfied: textblob in /Users/a.okoh/opt/miniconda3/lib/python3.8/site-packages (0.17.1)\n",
      "Requirement already satisfied: pandas>=0.25 in /Users/a.okoh/opt/miniconda3/lib/python3.8/site-packages (from seaborn) (1.5.2)\n",
      "Requirement already satisfied: matplotlib!=3.6.1,>=3.1 in /Users/a.okoh/opt/miniconda3/lib/python3.8/site-packages (from seaborn) (3.6.2)\n",
      "Requirement already satisfied: numpy>=1.17 in /Users/a.okoh/opt/miniconda3/lib/python3.8/site-packages (from seaborn) (1.24.0)\n",
      "Requirement already satisfied: fonttools>=4.22.0 in /Users/a.okoh/opt/miniconda3/lib/python3.8/site-packages (from matplotlib!=3.6.1,>=3.1->seaborn) (4.38.0)\n",
      "Requirement already satisfied: kiwisolver>=1.0.1 in /Users/a.okoh/opt/miniconda3/lib/python3.8/site-packages (from matplotlib!=3.6.1,>=3.1->seaborn) (1.4.4)\n",
      "Requirement already satisfied: python-dateutil>=2.7 in /Users/a.okoh/opt/miniconda3/lib/python3.8/site-packages (from matplotlib!=3.6.1,>=3.1->seaborn) (2.8.2)\n",
      "Requirement already satisfied: cycler>=0.10 in /Users/a.okoh/opt/miniconda3/lib/python3.8/site-packages (from matplotlib!=3.6.1,>=3.1->seaborn) (0.11.0)\n",
      "Requirement already satisfied: packaging>=20.0 in /Users/a.okoh/opt/miniconda3/lib/python3.8/site-packages (from matplotlib!=3.6.1,>=3.1->seaborn) (22.0)\n",
      "Requirement already satisfied: contourpy>=1.0.1 in /Users/a.okoh/opt/miniconda3/lib/python3.8/site-packages (from matplotlib!=3.6.1,>=3.1->seaborn) (1.0.6)\n",
      "Requirement already satisfied: pillow>=6.2.0 in /Users/a.okoh/opt/miniconda3/lib/python3.8/site-packages (from matplotlib!=3.6.1,>=3.1->seaborn) (9.3.0)\n",
      "Requirement already satisfied: pyparsing>=2.2.1 in /Users/a.okoh/opt/miniconda3/lib/python3.8/site-packages (from matplotlib!=3.6.1,>=3.1->seaborn) (3.0.9)\n",
      "Requirement already satisfied: pytz>=2020.1 in /Users/a.okoh/opt/miniconda3/lib/python3.8/site-packages (from pandas>=0.25->seaborn) (2022.7)\n",
      "Requirement already satisfied: six>=1.5 in /Users/a.okoh/opt/miniconda3/lib/python3.8/site-packages (from python-dateutil>=2.7->matplotlib!=3.6.1,>=3.1->seaborn) (1.16.0)\n",
      "Requirement already satisfied: psutil in /Users/a.okoh/opt/miniconda3/lib/python3.8/site-packages (from pandarallel) (5.9.4)\n",
      "Requirement already satisfied: dill>=0.3.1 in /Users/a.okoh/opt/miniconda3/lib/python3.8/site-packages (from pandarallel) (0.3.6)\n",
      "Requirement already satisfied: widgetsnbextension~=4.0 in /Users/a.okoh/opt/miniconda3/lib/python3.8/site-packages (from ipywidgets) (4.0.5)\n",
      "Requirement already satisfied: traitlets>=4.3.1 in /Users/a.okoh/opt/miniconda3/lib/python3.8/site-packages (from ipywidgets) (5.8.0)\n",
      "Requirement already satisfied: ipykernel>=4.5.1 in /Users/a.okoh/opt/miniconda3/lib/python3.8/site-packages (from ipywidgets) (6.19.4)\n",
      "Requirement already satisfied: ipython>=6.1.0 in /Users/a.okoh/opt/miniconda3/lib/python3.8/site-packages (from ipywidgets) (8.7.0)\n",
      "Requirement already satisfied: jupyterlab-widgets~=3.0 in /Users/a.okoh/opt/miniconda3/lib/python3.8/site-packages (from ipywidgets) (3.0.5)\n",
      "Requirement already satisfied: pyzmq>=17 in /Users/a.okoh/opt/miniconda3/lib/python3.8/site-packages (from ipykernel>=4.5.1->ipywidgets) (24.0.1)\n",
      "Requirement already satisfied: tornado>=6.1 in /Users/a.okoh/opt/miniconda3/lib/python3.8/site-packages (from ipykernel>=4.5.1->ipywidgets) (6.2)\n",
      "Requirement already satisfied: jupyter-client>=6.1.12 in /Users/a.okoh/opt/miniconda3/lib/python3.8/site-packages (from ipykernel>=4.5.1->ipywidgets) (7.4.8)\n",
      "Requirement already satisfied: matplotlib-inline>=0.1 in /Users/a.okoh/opt/miniconda3/lib/python3.8/site-packages (from ipykernel>=4.5.1->ipywidgets) (0.1.6)\n",
      "Requirement already satisfied: nest-asyncio in /Users/a.okoh/opt/miniconda3/lib/python3.8/site-packages (from ipykernel>=4.5.1->ipywidgets) (1.5.6)\n",
      "Requirement already satisfied: debugpy>=1.0 in /Users/a.okoh/opt/miniconda3/lib/python3.8/site-packages (from ipykernel>=4.5.1->ipywidgets) (1.6.4)\n",
      "Requirement already satisfied: comm>=0.1.1 in /Users/a.okoh/opt/miniconda3/lib/python3.8/site-packages (from ipykernel>=4.5.1->ipywidgets) (0.1.2)\n",
      "Requirement already satisfied: appnope in /Users/a.okoh/opt/miniconda3/lib/python3.8/site-packages (from ipykernel>=4.5.1->ipywidgets) (0.1.3)\n",
      "Requirement already satisfied: stack-data in /Users/a.okoh/opt/miniconda3/lib/python3.8/site-packages (from ipython>=6.1.0->ipywidgets) (0.6.2)\n",
      "Requirement already satisfied: pickleshare in /Users/a.okoh/opt/miniconda3/lib/python3.8/site-packages (from ipython>=6.1.0->ipywidgets) (0.7.5)\n",
      "Requirement already satisfied: prompt-toolkit<3.1.0,>=3.0.11 in /Users/a.okoh/opt/miniconda3/lib/python3.8/site-packages (from ipython>=6.1.0->ipywidgets) (3.0.36)\n",
      "Requirement already satisfied: pexpect>4.3 in /Users/a.okoh/opt/miniconda3/lib/python3.8/site-packages (from ipython>=6.1.0->ipywidgets) (4.8.0)\n",
      "Requirement already satisfied: decorator in /Users/a.okoh/opt/miniconda3/lib/python3.8/site-packages (from ipython>=6.1.0->ipywidgets) (5.1.1)\n",
      "Requirement already satisfied: pygments>=2.4.0 in /Users/a.okoh/opt/miniconda3/lib/python3.8/site-packages (from ipython>=6.1.0->ipywidgets) (2.13.0)\n",
      "Requirement already satisfied: backcall in /Users/a.okoh/opt/miniconda3/lib/python3.8/site-packages (from ipython>=6.1.0->ipywidgets) (0.2.0)\n",
      "Requirement already satisfied: jedi>=0.16 in /Users/a.okoh/opt/miniconda3/lib/python3.8/site-packages (from ipython>=6.1.0->ipywidgets) (0.18.2)\n",
      "Requirement already satisfied: parso<0.9.0,>=0.8.0 in /Users/a.okoh/opt/miniconda3/lib/python3.8/site-packages (from jedi>=0.16->ipython>=6.1.0->ipywidgets) (0.8.3)\n",
      "Requirement already satisfied: jupyter-core>=4.9.2 in /Users/a.okoh/opt/miniconda3/lib/python3.8/site-packages (from jupyter-client>=6.1.12->ipykernel>=4.5.1->ipywidgets) (5.1.0)\n",
      "Requirement already satisfied: entrypoints in /Users/a.okoh/opt/miniconda3/lib/python3.8/site-packages (from jupyter-client>=6.1.12->ipykernel>=4.5.1->ipywidgets) (0.4)\n",
      "Requirement already satisfied: platformdirs>=2.5 in /Users/a.okoh/opt/miniconda3/lib/python3.8/site-packages (from jupyter-core>=4.9.2->jupyter-client>=6.1.12->ipykernel>=4.5.1->ipywidgets) (2.6.0)\n",
      "Requirement already satisfied: ptyprocess>=0.5 in /Users/a.okoh/opt/miniconda3/lib/python3.8/site-packages (from pexpect>4.3->ipython>=6.1.0->ipywidgets) (0.7.0)\n",
      "Requirement already satisfied: wcwidth in /Users/a.okoh/opt/miniconda3/lib/python3.8/site-packages (from prompt-toolkit<3.1.0,>=3.0.11->ipython>=6.1.0->ipywidgets) (0.2.5)\n",
      "Requirement already satisfied: scikit-learn>=1.0.0 in /Users/a.okoh/opt/miniconda3/lib/python3.8/site-packages (from yellowbrick) (1.2.0)\n",
      "Requirement already satisfied: scipy>=1.0.0 in /Users/a.okoh/opt/miniconda3/lib/python3.8/site-packages (from yellowbrick) (1.9.3)\n",
      "Requirement already satisfied: threadpoolctl>=2.0.0 in /Users/a.okoh/opt/miniconda3/lib/python3.8/site-packages (from scikit-learn>=1.0.0->yellowbrick) (3.1.0)\n",
      "Requirement already satisfied: joblib>=1.1.1 in /Users/a.okoh/opt/miniconda3/lib/python3.8/site-packages (from scikit-learn>=1.0.0->yellowbrick) (1.2.0)\n",
      "Requirement already satisfied: nltk>=3.1 in /Users/a.okoh/opt/miniconda3/lib/python3.8/site-packages (from textblob) (3.8)\n",
      "Requirement already satisfied: click in /Users/a.okoh/opt/miniconda3/lib/python3.8/site-packages (from nltk>=3.1->textblob) (8.1.3)\n",
      "Requirement already satisfied: regex>=2021.8.3 in /Users/a.okoh/opt/miniconda3/lib/python3.8/site-packages (from nltk>=3.1->textblob) (2022.10.31)\n",
      "Requirement already satisfied: tqdm in /Users/a.okoh/opt/miniconda3/lib/python3.8/site-packages (from nltk>=3.1->textblob) (4.61.2)\n",
      "Requirement already satisfied: pure-eval in /Users/a.okoh/opt/miniconda3/lib/python3.8/site-packages (from stack-data->ipython>=6.1.0->ipywidgets) (0.2.2)\n",
      "Requirement already satisfied: executing>=1.2.0 in /Users/a.okoh/opt/miniconda3/lib/python3.8/site-packages (from stack-data->ipython>=6.1.0->ipywidgets) (1.2.0)\n",
      "Requirement already satisfied: asttokens>=2.1.0 in /Users/a.okoh/opt/miniconda3/lib/python3.8/site-packages (from stack-data->ipython>=6.1.0->ipywidgets) (2.2.1)\n"
     ]
    }
   ],
   "source": [
    "!pip install seaborn  pandarallel ipywidgets yellowbrick textblob "
   ]
  },
  {
   "cell_type": "code",
   "execution_count": 49,
   "metadata": {},
   "outputs": [
    {
     "name": "stdout",
     "output_type": "stream",
     "text": [
      "The autoreload extension is already loaded. To reload it, use:\n",
      "  %reload_ext autoreload\n",
      "INFO: Pandarallel will run on 4 workers.\n",
      "INFO: Pandarallel will use standard multiprocessing data transfer (pipe) to transfer data between the main process and workers.\n"
     ]
    },
    {
     "name": "stderr",
     "output_type": "stream",
     "text": [
      "[nltk_data] Downloading package movie_reviews to\n",
      "[nltk_data]     /Users/a.okoh/nltk_data...\n",
      "[nltk_data]   Package movie_reviews is already up-to-date!\n",
      "[nltk_data] Downloading package punkt to /Users/a.okoh/nltk_data...\n",
      "[nltk_data]   Package punkt is already up-to-date!\n"
     ]
    }
   ],
   "source": [
    "%load_ext autoreload\n",
    "%autoreload 2\n",
    "import pandas as pd\n",
    "import numpy as np\n",
    "from sklearn.cluster import KMeans\n",
    "import matplotlib.pyplot as plt\n",
    "from textblob import TextBlob\n",
    "from textblob.sentiments import NaiveBayesAnalyzer\n",
    "import seaborn as sns\n",
    "import ipywidgets as widgets\n",
    "from pandarallel import pandarallel\n",
    "from textblob import Blobber\n",
    "from yellowbrick.cluster import KElbowVisualizer\n",
    "import nltk\n",
    "nltk.download('movie_reviews')\n",
    "nltk.download('punkt')\n",
    "\n",
    "pandarallel.initialize(progress_bar=True)\n",
    "pd.set_option('display.float_format', lambda x: '%.5f' % x)\n",
    "\n",
    "\n"
   ]
  },
  {
   "cell_type": "code",
   "execution_count": 4,
   "metadata": {},
   "outputs": [
    {
     "data": {
      "text/html": [
       "<div>\n",
       "<style scoped>\n",
       "    .dataframe tbody tr th:only-of-type {\n",
       "        vertical-align: middle;\n",
       "    }\n",
       "\n",
       "    .dataframe tbody tr th {\n",
       "        vertical-align: top;\n",
       "    }\n",
       "\n",
       "    .dataframe thead th {\n",
       "        text-align: right;\n",
       "    }\n",
       "</style>\n",
       "<table border=\"1\" class=\"dataframe\">\n",
       "  <thead>\n",
       "    <tr style=\"text-align: right;\">\n",
       "      <th></th>\n",
       "      <th>text</th>\n",
       "      <th>label</th>\n",
       "    </tr>\n",
       "  </thead>\n",
       "  <tbody>\n",
       "    <tr>\n",
       "      <th>0</th>\n",
       "      <td>I rented I AM CURIOUS-YELLOW from my video sto...</td>\n",
       "      <td>0</td>\n",
       "    </tr>\n",
       "    <tr>\n",
       "      <th>1</th>\n",
       "      <td>\"I Am Curious: Yellow\" is a risible and preten...</td>\n",
       "      <td>0</td>\n",
       "    </tr>\n",
       "    <tr>\n",
       "      <th>2</th>\n",
       "      <td>If only to avoid making this type of film in t...</td>\n",
       "      <td>0</td>\n",
       "    </tr>\n",
       "    <tr>\n",
       "      <th>3</th>\n",
       "      <td>This film was probably inspired by Godard's Ma...</td>\n",
       "      <td>0</td>\n",
       "    </tr>\n",
       "    <tr>\n",
       "      <th>4</th>\n",
       "      <td>Oh, brother...after hearing about this ridicul...</td>\n",
       "      <td>0</td>\n",
       "    </tr>\n",
       "  </tbody>\n",
       "</table>\n",
       "</div>"
      ],
      "text/plain": [
       "                                                text  label\n",
       "0  I rented I AM CURIOUS-YELLOW from my video sto...      0\n",
       "1  \"I Am Curious: Yellow\" is a risible and preten...      0\n",
       "2  If only to avoid making this type of film in t...      0\n",
       "3  This film was probably inspired by Godard's Ma...      0\n",
       "4  Oh, brother...after hearing about this ridicul...      0"
      ]
     },
     "execution_count": 4,
     "metadata": {},
     "output_type": "execute_result"
    }
   ],
   "source": [
    "data = pd.read_csv('data/train.csv')\n",
    "data.head()"
   ]
  },
  {
   "cell_type": "code",
   "execution_count": 5,
   "metadata": {},
   "outputs": [
    {
     "name": "stdout",
     "output_type": "stream",
     "text": [
      "<class 'pandas.core.frame.DataFrame'>\n",
      "RangeIndex: 25000 entries, 0 to 24999\n",
      "Data columns (total 2 columns):\n",
      " #   Column  Non-Null Count  Dtype \n",
      "---  ------  --------------  ----- \n",
      " 0   text    25000 non-null  object\n",
      " 1   label   25000 non-null  int64 \n",
      "dtypes: int64(1), object(1)\n",
      "memory usage: 390.8+ KB\n"
     ]
    }
   ],
   "source": [
    "data.info()"
   ]
  },
  {
   "cell_type": "code",
   "execution_count": 6,
   "metadata": {},
   "outputs": [
    {
     "data": {
      "text/plain": [
       "0    12500\n",
       "1    12500\n",
       "Name: label, dtype: int64"
      ]
     },
     "execution_count": 6,
     "metadata": {},
     "output_type": "execute_result"
    }
   ],
   "source": [
    "data['label'].value_counts()"
   ]
  },
  {
   "cell_type": "code",
   "execution_count": 7,
   "metadata": {},
   "outputs": [],
   "source": [
    "tb = Blobber(analyzer=NaiveBayesAnalyzer())\n",
    "def get_sentiments(text):\n",
    "    # score =  TextBlob(text,analyzer=NaiveBayesAnalyzer()).sentiment\n",
    "    score = tb(text).sentiment\n",
    "    verdict = score[0]\n",
    "    pos_score = score[1]\n",
    "    neg_score = score[2]\n",
    "    return verdict, pos_score, neg_score"
   ]
  },
  {
   "cell_type": "code",
   "execution_count": 9,
   "metadata": {},
   "outputs": [
    {
     "data": {
      "application/vnd.jupyter.widget-view+json": {
       "model_id": "76f7f22ad2ee4a93a851fdf5c9bcac3f",
       "version_major": 2,
       "version_minor": 0
      },
      "text/plain": [
       "VBox(children=(HBox(children=(IntProgress(value=0, description='0.00%', max=6250), Label(value='0 / 6250'))), …"
      ]
     },
     "metadata": {},
     "output_type": "display_data"
    },
    {
     "data": {
      "text/html": [
       "<div>\n",
       "<style scoped>\n",
       "    .dataframe tbody tr th:only-of-type {\n",
       "        vertical-align: middle;\n",
       "    }\n",
       "\n",
       "    .dataframe tbody tr th {\n",
       "        vertical-align: top;\n",
       "    }\n",
       "\n",
       "    .dataframe thead th {\n",
       "        text-align: right;\n",
       "    }\n",
       "</style>\n",
       "<table border=\"1\" class=\"dataframe\">\n",
       "  <thead>\n",
       "    <tr style=\"text-align: right;\">\n",
       "      <th></th>\n",
       "      <th>text</th>\n",
       "      <th>label</th>\n",
       "      <th>verdict</th>\n",
       "      <th>pos_score</th>\n",
       "      <th>neg_score</th>\n",
       "    </tr>\n",
       "  </thead>\n",
       "  <tbody>\n",
       "    <tr>\n",
       "      <th>0</th>\n",
       "      <td>I rented I AM CURIOUS-YELLOW from my video sto...</td>\n",
       "      <td>0</td>\n",
       "      <td>pos</td>\n",
       "      <td>1.000000</td>\n",
       "      <td>3.020684e-12</td>\n",
       "    </tr>\n",
       "    <tr>\n",
       "      <th>1</th>\n",
       "      <td>\"I Am Curious: Yellow\" is a risible and preten...</td>\n",
       "      <td>0</td>\n",
       "      <td>neg</td>\n",
       "      <td>0.343421</td>\n",
       "      <td>6.565792e-01</td>\n",
       "    </tr>\n",
       "    <tr>\n",
       "      <th>2</th>\n",
       "      <td>If only to avoid making this type of film in t...</td>\n",
       "      <td>0</td>\n",
       "      <td>neg</td>\n",
       "      <td>0.429163</td>\n",
       "      <td>5.708371e-01</td>\n",
       "    </tr>\n",
       "    <tr>\n",
       "      <th>3</th>\n",
       "      <td>This film was probably inspired by Godard's Ma...</td>\n",
       "      <td>0</td>\n",
       "      <td>pos</td>\n",
       "      <td>0.921490</td>\n",
       "      <td>7.850973e-02</td>\n",
       "    </tr>\n",
       "    <tr>\n",
       "      <th>4</th>\n",
       "      <td>Oh, brother...after hearing about this ridicul...</td>\n",
       "      <td>0</td>\n",
       "      <td>neg</td>\n",
       "      <td>0.056067</td>\n",
       "      <td>9.439326e-01</td>\n",
       "    </tr>\n",
       "  </tbody>\n",
       "</table>\n",
       "</div>"
      ],
      "text/plain": [
       "                                                text  label verdict  \\\n",
       "0  I rented I AM CURIOUS-YELLOW from my video sto...      0     pos   \n",
       "1  \"I Am Curious: Yellow\" is a risible and preten...      0     neg   \n",
       "2  If only to avoid making this type of film in t...      0     neg   \n",
       "3  This film was probably inspired by Godard's Ma...      0     pos   \n",
       "4  Oh, brother...after hearing about this ridicul...      0     neg   \n",
       "\n",
       "   pos_score     neg_score  \n",
       "0   1.000000  3.020684e-12  \n",
       "1   0.343421  6.565792e-01  \n",
       "2   0.429163  5.708371e-01  \n",
       "3   0.921490  7.850973e-02  \n",
       "4   0.056067  9.439326e-01  "
      ]
     },
     "execution_count": 9,
     "metadata": {},
     "output_type": "execute_result"
    }
   ],
   "source": [
    "data[[\"verdict\", 'pos_score', 'neg_score']] = data.parallel_apply(lambda x: get_sentiments(x.text), axis=1, result_type=\"expand\")\n",
    "# data[\"pos_score\"] = data.parallel_apply(lambda x: get_sentiments(x.text, 1), axis=1)\n",
    "# data[\"neg_score\"] = data.parallel_apply(lambda x: get_sentiments(x.text, 2), axis=1)\n",
    "data.head()"
   ]
  },
  {
   "cell_type": "code",
   "execution_count": 70,
   "metadata": {},
   "outputs": [
    {
     "data": {
      "text/html": [
       "<div>\n",
       "<style scoped>\n",
       "    .dataframe tbody tr th:only-of-type {\n",
       "        vertical-align: middle;\n",
       "    }\n",
       "\n",
       "    .dataframe tbody tr th {\n",
       "        vertical-align: top;\n",
       "    }\n",
       "\n",
       "    .dataframe thead th {\n",
       "        text-align: right;\n",
       "    }\n",
       "</style>\n",
       "<table border=\"1\" class=\"dataframe\">\n",
       "  <thead>\n",
       "    <tr style=\"text-align: right;\">\n",
       "      <th></th>\n",
       "      <th>text</th>\n",
       "      <th>label</th>\n",
       "      <th>verdict</th>\n",
       "      <th>pos_score</th>\n",
       "      <th>neg_score</th>\n",
       "      <th>clusters</th>\n",
       "    </tr>\n",
       "  </thead>\n",
       "  <tbody>\n",
       "    <tr>\n",
       "      <th>36</th>\n",
       "      <td>I rented this movie about 3 years ago, and it ...</td>\n",
       "      <td>0</td>\n",
       "      <td>pos</td>\n",
       "      <td>0.599838</td>\n",
       "      <td>0.400162</td>\n",
       "      <td>3</td>\n",
       "    </tr>\n",
       "    <tr>\n",
       "      <th>58</th>\n",
       "      <td>I thought this was a very clunky, uninvolving ...</td>\n",
       "      <td>0</td>\n",
       "      <td>pos</td>\n",
       "      <td>0.550153</td>\n",
       "      <td>0.449847</td>\n",
       "      <td>3</td>\n",
       "    </tr>\n",
       "    <tr>\n",
       "      <th>59</th>\n",
       "      <td>Ned aKelly is such an important story to Austr...</td>\n",
       "      <td>0</td>\n",
       "      <td>pos</td>\n",
       "      <td>0.608810</td>\n",
       "      <td>0.391190</td>\n",
       "      <td>3</td>\n",
       "    </tr>\n",
       "    <tr>\n",
       "      <th>67</th>\n",
       "      <td>I like Goldie Hawn and wanted another one of h...</td>\n",
       "      <td>0</td>\n",
       "      <td>pos</td>\n",
       "      <td>0.545593</td>\n",
       "      <td>0.454407</td>\n",
       "      <td>3</td>\n",
       "    </tr>\n",
       "    <tr>\n",
       "      <th>123</th>\n",
       "      <td>This fanciful horror flick has Vincent Price p...</td>\n",
       "      <td>0</td>\n",
       "      <td>pos</td>\n",
       "      <td>0.622064</td>\n",
       "      <td>0.377936</td>\n",
       "      <td>3</td>\n",
       "    </tr>\n",
       "    <tr>\n",
       "      <th>...</th>\n",
       "      <td>...</td>\n",
       "      <td>...</td>\n",
       "      <td>...</td>\n",
       "      <td>...</td>\n",
       "      <td>...</td>\n",
       "      <td>...</td>\n",
       "    </tr>\n",
       "    <tr>\n",
       "      <th>24779</th>\n",
       "      <td>\"A Guy Thing\" may not be a classic, but it sur...</td>\n",
       "      <td>1</td>\n",
       "      <td>pos</td>\n",
       "      <td>0.635205</td>\n",
       "      <td>0.364795</td>\n",
       "      <td>3</td>\n",
       "    </tr>\n",
       "    <tr>\n",
       "      <th>24924</th>\n",
       "      <td>This movie was very good. If you are one who l...</td>\n",
       "      <td>1</td>\n",
       "      <td>pos</td>\n",
       "      <td>0.543141</td>\n",
       "      <td>0.456859</td>\n",
       "      <td>3</td>\n",
       "    </tr>\n",
       "    <tr>\n",
       "      <th>24929</th>\n",
       "      <td>Well, this film is a difficult one really. To ...</td>\n",
       "      <td>1</td>\n",
       "      <td>pos</td>\n",
       "      <td>0.634655</td>\n",
       "      <td>0.365345</td>\n",
       "      <td>3</td>\n",
       "    </tr>\n",
       "    <tr>\n",
       "      <th>24961</th>\n",
       "      <td>magellan33 said: \"You can only do so much when...</td>\n",
       "      <td>1</td>\n",
       "      <td>pos</td>\n",
       "      <td>0.586928</td>\n",
       "      <td>0.413072</td>\n",
       "      <td>3</td>\n",
       "    </tr>\n",
       "    <tr>\n",
       "      <th>24987</th>\n",
       "      <td>I enjoyed this movie. Unlike like some of the ...</td>\n",
       "      <td>1</td>\n",
       "      <td>pos</td>\n",
       "      <td>0.627788</td>\n",
       "      <td>0.372212</td>\n",
       "      <td>3</td>\n",
       "    </tr>\n",
       "  </tbody>\n",
       "</table>\n",
       "<p>625 rows × 6 columns</p>\n",
       "</div>"
      ],
      "text/plain": [
       "                                                    text  label verdict  \\\n",
       "36     I rented this movie about 3 years ago, and it ...      0     pos   \n",
       "58     I thought this was a very clunky, uninvolving ...      0     pos   \n",
       "59     Ned aKelly is such an important story to Austr...      0     pos   \n",
       "67     I like Goldie Hawn and wanted another one of h...      0     pos   \n",
       "123    This fanciful horror flick has Vincent Price p...      0     pos   \n",
       "...                                                  ...    ...     ...   \n",
       "24779  \"A Guy Thing\" may not be a classic, but it sur...      1     pos   \n",
       "24924  This movie was very good. If you are one who l...      1     pos   \n",
       "24929  Well, this film is a difficult one really. To ...      1     pos   \n",
       "24961  magellan33 said: \"You can only do so much when...      1     pos   \n",
       "24987  I enjoyed this movie. Unlike like some of the ...      1     pos   \n",
       "\n",
       "       pos_score  neg_score  clusters  \n",
       "36      0.599838   0.400162         3  \n",
       "58      0.550153   0.449847         3  \n",
       "59      0.608810   0.391190         3  \n",
       "67      0.545593   0.454407         3  \n",
       "123     0.622064   0.377936         3  \n",
       "...          ...        ...       ...  \n",
       "24779   0.635205   0.364795         3  \n",
       "24924   0.543141   0.456859         3  \n",
       "24929   0.634655   0.365345         3  \n",
       "24961   0.586928   0.413072         3  \n",
       "24987   0.627788   0.372212         3  \n",
       "\n",
       "[625 rows x 6 columns]"
      ]
     },
     "execution_count": 70,
     "metadata": {},
     "output_type": "execute_result"
    }
   ],
   "source": [
    "data[(data['verdict']=='pos') & (data['clusters']==3)]"
   ]
  },
  {
   "cell_type": "code",
   "execution_count": 73,
   "metadata": {},
   "outputs": [
    {
     "data": {
      "text/plain": [
       "0.379061    1\n",
       "0.379273    1\n",
       "0.379513    1\n",
       "0.380040    1\n",
       "0.380451    1\n",
       "           ..\n",
       "0.650758    1\n",
       "0.650943    1\n",
       "0.651006    1\n",
       "0.651614    1\n",
       "0.651686    1\n",
       "Name: pos_score, Length: 1108, dtype: int64"
      ]
     },
     "execution_count": 73,
     "metadata": {},
     "output_type": "execute_result"
    }
   ],
   "source": [
    "data[data['clusters']==3]['pos_score'].value_counts().sort_index()"
   ]
  },
  {
   "cell_type": "code",
   "execution_count": 74,
   "metadata": {},
   "outputs": [
    {
     "data": {
      "text/plain": [
       "0.889909       1\n",
       "0.890025       1\n",
       "0.890123       1\n",
       "0.890295       1\n",
       "0.890408       1\n",
       "            ... \n",
       "1.000000      53\n",
       "1.000000       5\n",
       "1.000000      88\n",
       "1.000000      12\n",
       "1.000000    1502\n",
       "Name: pos_score, Length: 13341, dtype: int64"
      ]
     },
     "execution_count": 74,
     "metadata": {},
     "output_type": "execute_result"
    }
   ],
   "source": [
    "data[data['clusters']==2]['pos_score'].value_counts().sort_index()"
   ]
  },
  {
   "cell_type": "code",
   "execution_count": 10,
   "metadata": {},
   "outputs": [
    {
     "data": {
      "text/plain": [
       "pos    17728\n",
       "neg     7272\n",
       "Name: verdict, dtype: int64"
      ]
     },
     "execution_count": 10,
     "metadata": {},
     "output_type": "execute_result"
    }
   ],
   "source": [
    "data['verdict'].value_counts()"
   ]
  },
  {
   "cell_type": "code",
   "execution_count": 11,
   "metadata": {},
   "outputs": [
    {
     "name": "stdout",
     "output_type": "stream",
     "text": [
      "<class 'pandas.core.frame.DataFrame'>\n",
      "RangeIndex: 25000 entries, 0 to 24999\n",
      "Data columns (total 5 columns):\n",
      " #   Column     Non-Null Count  Dtype  \n",
      "---  ------     --------------  -----  \n",
      " 0   text       25000 non-null  object \n",
      " 1   label      25000 non-null  int64  \n",
      " 2   verdict    25000 non-null  object \n",
      " 3   pos_score  25000 non-null  float64\n",
      " 4   neg_score  25000 non-null  float64\n",
      "dtypes: float64(2), int64(1), object(2)\n",
      "memory usage: 976.7+ KB\n"
     ]
    }
   ],
   "source": [
    "data.info()"
   ]
  },
  {
   "cell_type": "code",
   "execution_count": 12,
   "metadata": {},
   "outputs": [
    {
     "data": {
      "text/plain": [
       "<AxesSubplot: xlabel='pos_score', ylabel='neg_score'>"
      ]
     },
     "execution_count": 12,
     "metadata": {},
     "output_type": "execute_result"
    },
    {
     "data": {
      "image/png": "[encoded data removed]",
      "text/plain": [
       "<Figure size 2000x1000 with 1 Axes>"
      ]
     },
     "metadata": {},
     "output_type": "display_data"
    }
   ],
   "source": [
    "plt.figure(figsize=(20,10))\n",
    "sns.scatterplot(data=data, x=\"pos_score\", y=\"neg_score\")"
   ]
  },
  {
   "cell_type": "code",
   "execution_count": 50,
   "metadata": {},
   "outputs": [
    {
     "name": "stderr",
     "output_type": "stream",
     "text": [
      "/Users/a.okoh/opt/miniconda3/lib/python3.8/site-packages/sklearn/cluster/_kmeans.py:870: FutureWarning: The default value of `n_init` will change from 10 to 'auto' in 1.4. Set the value of `n_init` explicitly to suppress the warning\n",
      "  warnings.warn(\n"
     ]
    },
    {
     "data": {
      "text/html": [
       "<style>#sk-container-id-2 {color: black;background-color: white;}#sk-container-id-2 pre{padding: 0;}#sk-container-id-2 div.sk-toggleable {background-color: white;}#sk-container-id-2 label.sk-toggleable__label {cursor: pointer;display: block;width: 100%;margin-bottom: 0;padding: 0.3em;box-sizing: border-box;text-align: center;}#sk-container-id-2 label.sk-toggleable__label-arrow:before {content: \"▸\";float: left;margin-right: 0.25em;color: #696969;}#sk-container-id-2 label.sk-toggleable__label-arrow:hover:before {color: black;}#sk-container-id-2 div.sk-estimator:hover label.sk-toggleable__label-arrow:before {color: black;}#sk-container-id-2 div.sk-toggleable__content {max-height: 0;max-width: 0;overflow: hidden;text-align: left;background-color: #f0f8ff;}#sk-container-id-2 div.sk-toggleable__content pre {margin: 0.2em;color: black;border-radius: 0.25em;background-color: #f0f8ff;}#sk-container-id-2 input.sk-toggleable__control:checked~div.sk-toggleable__content {max-height: 200px;max-width: 100%;overflow: auto;}#sk-container-id-2 input.sk-toggleable__control:checked~label.sk-toggleable__label-arrow:before {content: \"▾\";}#sk-container-id-2 div.sk-estimator input.sk-toggleable__control:checked~label.sk-toggleable__label {background-color: #d4ebff;}#sk-container-id-2 div.sk-label input.sk-toggleable__control:checked~label.sk-toggleable__label {background-color: #d4ebff;}#sk-container-id-2 input.sk-hidden--visually {border: 0;clip: rect(1px 1px 1px 1px);clip: rect(1px, 1px, 1px, 1px);height: 1px;margin: -1px;overflow: hidden;padding: 0;position: absolute;width: 1px;}#sk-container-id-2 div.sk-estimator {font-family: monospace;background-color: #f0f8ff;border: 1px dotted black;border-radius: 0.25em;box-sizing: border-box;margin-bottom: 0.5em;}#sk-container-id-2 div.sk-estimator:hover {background-color: #d4ebff;}#sk-container-id-2 div.sk-parallel-item::after {content: \"\";width: 100%;border-bottom: 1px solid gray;flex-grow: 1;}#sk-container-id-2 div.sk-label:hover label.sk-toggleable__label {background-color: #d4ebff;}#sk-container-id-2 div.sk-serial::before {content: \"\";position: absolute;border-left: 1px solid gray;box-sizing: border-box;top: 0;bottom: 0;left: 50%;z-index: 0;}#sk-container-id-2 div.sk-serial {display: flex;flex-direction: column;align-items: center;background-color: white;padding-right: 0.2em;padding-left: 0.2em;position: relative;}#sk-container-id-2 div.sk-item {position: relative;z-index: 1;}#sk-container-id-2 div.sk-parallel {display: flex;align-items: stretch;justify-content: center;background-color: white;position: relative;}#sk-container-id-2 div.sk-item::before, #sk-container-id-2 div.sk-parallel-item::before {content: \"\";position: absolute;border-left: 1px solid gray;box-sizing: border-box;top: 0;bottom: 0;left: 50%;z-index: -1;}#sk-container-id-2 div.sk-parallel-item {display: flex;flex-direction: column;z-index: 1;position: relative;background-color: white;}#sk-container-id-2 div.sk-parallel-item:first-child::after {align-self: flex-end;width: 50%;}#sk-container-id-2 div.sk-parallel-item:last-child::after {align-self: flex-start;width: 50%;}#sk-container-id-2 div.sk-parallel-item:only-child::after {width: 0;}#sk-container-id-2 div.sk-dashed-wrapped {border: 1px dashed gray;margin: 0 0.4em 0.5em 0.4em;box-sizing: border-box;padding-bottom: 0.4em;background-color: white;}#sk-container-id-2 div.sk-label label {font-family: monospace;font-weight: bold;display: inline-block;line-height: 1.2em;}#sk-container-id-2 div.sk-label-container {text-align: center;}#sk-container-id-2 div.sk-container {/* jupyter's `normalize.less` sets `[hidden] { display: none; }` but bootstrap.min.css set `[hidden] { display: none !important; }` so we also need the `!important` here to be able to override the default hidden behavior on the sphinx rendered scikit-learn.org. See: https://github.com/scikit-learn/scikit-learn/issues/21755 */display: inline-block !important;position: relative;}#sk-container-id-2 div.sk-text-repr-fallback {display: none;}</style><div id=\"sk-container-id-2\" class=\"sk-top-container\"><div class=\"sk-text-repr-fallback\"><pre>KMeans(n_clusters=5, random_state=42)</pre><b>In a Jupyter environment, please rerun this cell to show the HTML representation or trust the notebook. <br />On GitHub, the HTML representation is unable to render, please try loading this page with nbviewer.org.</b></div><div class=\"sk-container\" hidden><div class=\"sk-item\"><div class=\"sk-estimator sk-toggleable\"><input class=\"sk-toggleable__control sk-hidden--visually\" id=\"sk-estimator-id-2\" type=\"checkbox\" checked><label for=\"sk-estimator-id-2\" class=\"sk-toggleable__label sk-toggleable__label-arrow\">KMeans</label><div class=\"sk-toggleable__content\"><pre>KMeans(n_clusters=5, random_state=42)</pre></div></div></div></div></div>"
      ],
      "text/plain": [
       "KMeans(n_clusters=5, random_state=42)"
      ]
     },
     "execution_count": 50,
     "metadata": {},
     "output_type": "execute_result"
    }
   ],
   "source": [
    "Xfeatures = data[['pos_score', \"neg_score\"]]\n",
    "model = KMeans(n_clusters=5, init =\"k-means++\", random_state=42)\n",
    "model.fit(Xfeatures)"
   ]
  },
  {
   "cell_type": "code",
   "execution_count": 14,
   "metadata": {},
   "outputs": [],
   "source": [
    "pred = model.predict(Xfeatures)"
   ]
  },
  {
   "cell_type": "code",
   "execution_count": 15,
   "metadata": {},
   "outputs": [
    {
     "data": {
      "text/html": [
       "<div>\n",
       "<style scoped>\n",
       "    .dataframe tbody tr th:only-of-type {\n",
       "        vertical-align: middle;\n",
       "    }\n",
       "\n",
       "    .dataframe tbody tr th {\n",
       "        vertical-align: top;\n",
       "    }\n",
       "\n",
       "    .dataframe thead th {\n",
       "        text-align: right;\n",
       "    }\n",
       "</style>\n",
       "<table border=\"1\" class=\"dataframe\">\n",
       "  <thead>\n",
       "    <tr style=\"text-align: right;\">\n",
       "      <th></th>\n",
       "      <th>text</th>\n",
       "      <th>label</th>\n",
       "      <th>verdict</th>\n",
       "      <th>pos_score</th>\n",
       "      <th>neg_score</th>\n",
       "      <th>clusters</th>\n",
       "    </tr>\n",
       "  </thead>\n",
       "  <tbody>\n",
       "    <tr>\n",
       "      <th>0</th>\n",
       "      <td>I rented I AM CURIOUS-YELLOW from my video sto...</td>\n",
       "      <td>0</td>\n",
       "      <td>pos</td>\n",
       "      <td>1.000000</td>\n",
       "      <td>3.020684e-12</td>\n",
       "      <td>2</td>\n",
       "    </tr>\n",
       "    <tr>\n",
       "      <th>1</th>\n",
       "      <td>\"I Am Curious: Yellow\" is a risible and preten...</td>\n",
       "      <td>0</td>\n",
       "      <td>neg</td>\n",
       "      <td>0.343421</td>\n",
       "      <td>6.565792e-01</td>\n",
       "      <td>4</td>\n",
       "    </tr>\n",
       "    <tr>\n",
       "      <th>2</th>\n",
       "      <td>If only to avoid making this type of film in t...</td>\n",
       "      <td>0</td>\n",
       "      <td>neg</td>\n",
       "      <td>0.429163</td>\n",
       "      <td>5.708371e-01</td>\n",
       "      <td>3</td>\n",
       "    </tr>\n",
       "    <tr>\n",
       "      <th>3</th>\n",
       "      <td>This film was probably inspired by Godard's Ma...</td>\n",
       "      <td>0</td>\n",
       "      <td>pos</td>\n",
       "      <td>0.921490</td>\n",
       "      <td>7.850973e-02</td>\n",
       "      <td>2</td>\n",
       "    </tr>\n",
       "    <tr>\n",
       "      <th>4</th>\n",
       "      <td>Oh, brother...after hearing about this ridicul...</td>\n",
       "      <td>0</td>\n",
       "      <td>neg</td>\n",
       "      <td>0.056067</td>\n",
       "      <td>9.439326e-01</td>\n",
       "      <td>1</td>\n",
       "    </tr>\n",
       "  </tbody>\n",
       "</table>\n",
       "</div>"
      ],
      "text/plain": [
       "                                                text  label verdict  \\\n",
       "0  I rented I AM CURIOUS-YELLOW from my video sto...      0     pos   \n",
       "1  \"I Am Curious: Yellow\" is a risible and preten...      0     neg   \n",
       "2  If only to avoid making this type of film in t...      0     neg   \n",
       "3  This film was probably inspired by Godard's Ma...      0     pos   \n",
       "4  Oh, brother...after hearing about this ridicul...      0     neg   \n",
       "\n",
       "   pos_score     neg_score  clusters  \n",
       "0   1.000000  3.020684e-12         2  \n",
       "1   0.343421  6.565792e-01         4  \n",
       "2   0.429163  5.708371e-01         3  \n",
       "3   0.921490  7.850973e-02         2  \n",
       "4   0.056067  9.439326e-01         1  "
      ]
     },
     "execution_count": 15,
     "metadata": {},
     "output_type": "execute_result"
    }
   ],
   "source": [
    "data['clusters'] = pred\n",
    "data.head()"
   ]
  },
  {
   "cell_type": "code",
   "execution_count": 16,
   "metadata": {},
   "outputs": [
    {
     "data": {
      "text/html": [
       "<div>\n",
       "<style scoped>\n",
       "    .dataframe tbody tr th:only-of-type {\n",
       "        vertical-align: middle;\n",
       "    }\n",
       "\n",
       "    .dataframe tbody tr th {\n",
       "        vertical-align: top;\n",
       "    }\n",
       "\n",
       "    .dataframe thead th {\n",
       "        text-align: right;\n",
       "    }\n",
       "</style>\n",
       "<table border=\"1\" class=\"dataframe\">\n",
       "  <thead>\n",
       "    <tr style=\"text-align: right;\">\n",
       "      <th></th>\n",
       "      <th>text</th>\n",
       "      <th>label</th>\n",
       "      <th>verdict</th>\n",
       "      <th>pos_score</th>\n",
       "      <th>neg_score</th>\n",
       "      <th>clusters</th>\n",
       "    </tr>\n",
       "  </thead>\n",
       "  <tbody>\n",
       "    <tr>\n",
       "      <th>0</th>\n",
       "      <td>I rented I AM CURIOUS-YELLOW from my video sto...</td>\n",
       "      <td>0</td>\n",
       "      <td>pos</td>\n",
       "      <td>1.000000e+00</td>\n",
       "      <td>3.020684e-12</td>\n",
       "      <td>2</td>\n",
       "    </tr>\n",
       "    <tr>\n",
       "      <th>1</th>\n",
       "      <td>\"I Am Curious: Yellow\" is a risible and preten...</td>\n",
       "      <td>0</td>\n",
       "      <td>neg</td>\n",
       "      <td>3.434208e-01</td>\n",
       "      <td>6.565792e-01</td>\n",
       "      <td>4</td>\n",
       "    </tr>\n",
       "    <tr>\n",
       "      <th>2</th>\n",
       "      <td>If only to avoid making this type of film in t...</td>\n",
       "      <td>0</td>\n",
       "      <td>neg</td>\n",
       "      <td>4.291629e-01</td>\n",
       "      <td>5.708371e-01</td>\n",
       "      <td>3</td>\n",
       "    </tr>\n",
       "    <tr>\n",
       "      <th>3</th>\n",
       "      <td>This film was probably inspired by Godard's Ma...</td>\n",
       "      <td>0</td>\n",
       "      <td>pos</td>\n",
       "      <td>9.214903e-01</td>\n",
       "      <td>7.850973e-02</td>\n",
       "      <td>2</td>\n",
       "    </tr>\n",
       "    <tr>\n",
       "      <th>4</th>\n",
       "      <td>Oh, brother...after hearing about this ridicul...</td>\n",
       "      <td>0</td>\n",
       "      <td>neg</td>\n",
       "      <td>5.606739e-02</td>\n",
       "      <td>9.439326e-01</td>\n",
       "      <td>1</td>\n",
       "    </tr>\n",
       "    <tr>\n",
       "      <th>5</th>\n",
       "      <td>I would put this at the top of my list of film...</td>\n",
       "      <td>0</td>\n",
       "      <td>neg</td>\n",
       "      <td>7.881578e-03</td>\n",
       "      <td>9.921184e-01</td>\n",
       "      <td>1</td>\n",
       "    </tr>\n",
       "    <tr>\n",
       "      <th>6</th>\n",
       "      <td>Whoever wrote the screenplay for this movie ob...</td>\n",
       "      <td>0</td>\n",
       "      <td>pos</td>\n",
       "      <td>8.443613e-01</td>\n",
       "      <td>1.556387e-01</td>\n",
       "      <td>0</td>\n",
       "    </tr>\n",
       "    <tr>\n",
       "      <th>7</th>\n",
       "      <td>When I first saw a glimpse of this movie, I qu...</td>\n",
       "      <td>0</td>\n",
       "      <td>pos</td>\n",
       "      <td>9.995160e-01</td>\n",
       "      <td>4.839792e-04</td>\n",
       "      <td>2</td>\n",
       "    </tr>\n",
       "    <tr>\n",
       "      <th>8</th>\n",
       "      <td>Who are these \"They\"- the actors? the filmmake...</td>\n",
       "      <td>0</td>\n",
       "      <td>pos</td>\n",
       "      <td>9.999997e-01</td>\n",
       "      <td>3.241790e-07</td>\n",
       "      <td>2</td>\n",
       "    </tr>\n",
       "    <tr>\n",
       "      <th>9</th>\n",
       "      <td>This is said to be a personal film for Peter B...</td>\n",
       "      <td>0</td>\n",
       "      <td>pos</td>\n",
       "      <td>9.805689e-01</td>\n",
       "      <td>1.943108e-02</td>\n",
       "      <td>2</td>\n",
       "    </tr>\n",
       "    <tr>\n",
       "      <th>10</th>\n",
       "      <td>It was great to see some of my favorite stars ...</td>\n",
       "      <td>0</td>\n",
       "      <td>pos</td>\n",
       "      <td>9.975490e-01</td>\n",
       "      <td>2.451022e-03</td>\n",
       "      <td>2</td>\n",
       "    </tr>\n",
       "    <tr>\n",
       "      <th>11</th>\n",
       "      <td>I can't believe that those praising this movie...</td>\n",
       "      <td>0</td>\n",
       "      <td>pos</td>\n",
       "      <td>6.554489e-01</td>\n",
       "      <td>3.445511e-01</td>\n",
       "      <td>0</td>\n",
       "    </tr>\n",
       "    <tr>\n",
       "      <th>12</th>\n",
       "      <td>Never cast models and Playboy bunnies in your ...</td>\n",
       "      <td>0</td>\n",
       "      <td>neg</td>\n",
       "      <td>6.588699e-03</td>\n",
       "      <td>9.934113e-01</td>\n",
       "      <td>1</td>\n",
       "    </tr>\n",
       "    <tr>\n",
       "      <th>13</th>\n",
       "      <td>Its not the cast. A finer group of actors, you...</td>\n",
       "      <td>0</td>\n",
       "      <td>pos</td>\n",
       "      <td>9.797752e-01</td>\n",
       "      <td>2.022479e-02</td>\n",
       "      <td>2</td>\n",
       "    </tr>\n",
       "    <tr>\n",
       "      <th>14</th>\n",
       "      <td>Today I found \"They All Laughed\" on VHS on sal...</td>\n",
       "      <td>0</td>\n",
       "      <td>pos</td>\n",
       "      <td>9.988608e-01</td>\n",
       "      <td>1.139196e-03</td>\n",
       "      <td>2</td>\n",
       "    </tr>\n",
       "    <tr>\n",
       "      <th>15</th>\n",
       "      <td>This film is just plain horrible. John Ritter ...</td>\n",
       "      <td>0</td>\n",
       "      <td>neg</td>\n",
       "      <td>3.266908e-01</td>\n",
       "      <td>6.733092e-01</td>\n",
       "      <td>4</td>\n",
       "    </tr>\n",
       "    <tr>\n",
       "      <th>16</th>\n",
       "      <td>My interest in Dorothy Stratten caused me to p...</td>\n",
       "      <td>0</td>\n",
       "      <td>neg</td>\n",
       "      <td>5.949473e-03</td>\n",
       "      <td>9.940505e-01</td>\n",
       "      <td>1</td>\n",
       "    </tr>\n",
       "    <tr>\n",
       "      <th>17</th>\n",
       "      <td>I have this film out of the library right now ...</td>\n",
       "      <td>0</td>\n",
       "      <td>pos</td>\n",
       "      <td>9.995352e-01</td>\n",
       "      <td>4.648164e-04</td>\n",
       "      <td>2</td>\n",
       "    </tr>\n",
       "    <tr>\n",
       "      <th>18</th>\n",
       "      <td>I think I will make a movie next weekend. Oh w...</td>\n",
       "      <td>0</td>\n",
       "      <td>neg</td>\n",
       "      <td>4.626741e-02</td>\n",
       "      <td>9.537326e-01</td>\n",
       "      <td>1</td>\n",
       "    </tr>\n",
       "    <tr>\n",
       "      <th>19</th>\n",
       "      <td>Pros: Nothing&lt;br /&gt;&lt;br /&gt;Cons: Everything&lt;br /...</td>\n",
       "      <td>0</td>\n",
       "      <td>neg</td>\n",
       "      <td>1.252321e-02</td>\n",
       "      <td>9.874768e-01</td>\n",
       "      <td>1</td>\n",
       "    </tr>\n",
       "    <tr>\n",
       "      <th>20</th>\n",
       "      <td>If the crew behind \"Zombie Chronicles\" ever re...</td>\n",
       "      <td>0</td>\n",
       "      <td>pos</td>\n",
       "      <td>8.736775e-01</td>\n",
       "      <td>1.263225e-01</td>\n",
       "      <td>0</td>\n",
       "    </tr>\n",
       "    <tr>\n",
       "      <th>21</th>\n",
       "      <td>1st watched 8/3/2003 - 2 out of 10(Dir-Brad Sy...</td>\n",
       "      <td>0</td>\n",
       "      <td>pos</td>\n",
       "      <td>7.052652e-01</td>\n",
       "      <td>2.947348e-01</td>\n",
       "      <td>0</td>\n",
       "    </tr>\n",
       "    <tr>\n",
       "      <th>22</th>\n",
       "      <td>There's tons of good-looking women in this fli...</td>\n",
       "      <td>0</td>\n",
       "      <td>neg</td>\n",
       "      <td>3.159470e-02</td>\n",
       "      <td>9.684053e-01</td>\n",
       "      <td>1</td>\n",
       "    </tr>\n",
       "    <tr>\n",
       "      <th>23</th>\n",
       "      <td>En route to a small town that lays way off the...</td>\n",
       "      <td>0</td>\n",
       "      <td>neg</td>\n",
       "      <td>6.281855e-02</td>\n",
       "      <td>9.371814e-01</td>\n",
       "      <td>1</td>\n",
       "    </tr>\n",
       "    <tr>\n",
       "      <th>24</th>\n",
       "      <td>Without wishing to be a killjoy, Brad Sykes is...</td>\n",
       "      <td>0</td>\n",
       "      <td>neg</td>\n",
       "      <td>1.542186e-04</td>\n",
       "      <td>9.998458e-01</td>\n",
       "      <td>1</td>\n",
       "    </tr>\n",
       "    <tr>\n",
       "      <th>25</th>\n",
       "      <td>My girlfriend once brought around The Zombie C...</td>\n",
       "      <td>0</td>\n",
       "      <td>neg</td>\n",
       "      <td>3.510511e-02</td>\n",
       "      <td>9.648949e-01</td>\n",
       "      <td>1</td>\n",
       "    </tr>\n",
       "    <tr>\n",
       "      <th>26</th>\n",
       "      <td>Amateur, no budget films can be surprisingly g...</td>\n",
       "      <td>0</td>\n",
       "      <td>neg</td>\n",
       "      <td>1.673055e-07</td>\n",
       "      <td>9.999998e-01</td>\n",
       "      <td>1</td>\n",
       "    </tr>\n",
       "    <tr>\n",
       "      <th>27</th>\n",
       "      <td>OK its not the best film I've ever seen but at...</td>\n",
       "      <td>0</td>\n",
       "      <td>neg</td>\n",
       "      <td>3.231366e-01</td>\n",
       "      <td>6.768634e-01</td>\n",
       "      <td>4</td>\n",
       "    </tr>\n",
       "    <tr>\n",
       "      <th>28</th>\n",
       "      <td>Some films that you pick up for a pound turn o...</td>\n",
       "      <td>0</td>\n",
       "      <td>pos</td>\n",
       "      <td>8.038002e-01</td>\n",
       "      <td>1.961998e-01</td>\n",
       "      <td>0</td>\n",
       "    </tr>\n",
       "    <tr>\n",
       "      <th>29</th>\n",
       "      <td>I received this movie as a gift, I knew from t...</td>\n",
       "      <td>0</td>\n",
       "      <td>neg</td>\n",
       "      <td>3.546156e-05</td>\n",
       "      <td>9.999645e-01</td>\n",
       "      <td>1</td>\n",
       "    </tr>\n",
       "  </tbody>\n",
       "</table>\n",
       "</div>"
      ],
      "text/plain": [
       "                                                 text  label verdict  \\\n",
       "0   I rented I AM CURIOUS-YELLOW from my video sto...      0     pos   \n",
       "1   \"I Am Curious: Yellow\" is a risible and preten...      0     neg   \n",
       "2   If only to avoid making this type of film in t...      0     neg   \n",
       "3   This film was probably inspired by Godard's Ma...      0     pos   \n",
       "4   Oh, brother...after hearing about this ridicul...      0     neg   \n",
       "5   I would put this at the top of my list of film...      0     neg   \n",
       "6   Whoever wrote the screenplay for this movie ob...      0     pos   \n",
       "7   When I first saw a glimpse of this movie, I qu...      0     pos   \n",
       "8   Who are these \"They\"- the actors? the filmmake...      0     pos   \n",
       "9   This is said to be a personal film for Peter B...      0     pos   \n",
       "10  It was great to see some of my favorite stars ...      0     pos   \n",
       "11  I can't believe that those praising this movie...      0     pos   \n",
       "12  Never cast models and Playboy bunnies in your ...      0     neg   \n",
       "13  Its not the cast. A finer group of actors, you...      0     pos   \n",
       "14  Today I found \"They All Laughed\" on VHS on sal...      0     pos   \n",
       "15  This film is just plain horrible. John Ritter ...      0     neg   \n",
       "16  My interest in Dorothy Stratten caused me to p...      0     neg   \n",
       "17  I have this film out of the library right now ...      0     pos   \n",
       "18  I think I will make a movie next weekend. Oh w...      0     neg   \n",
       "19  Pros: Nothing<br /><br />Cons: Everything<br /...      0     neg   \n",
       "20  If the crew behind \"Zombie Chronicles\" ever re...      0     pos   \n",
       "21  1st watched 8/3/2003 - 2 out of 10(Dir-Brad Sy...      0     pos   \n",
       "22  There's tons of good-looking women in this fli...      0     neg   \n",
       "23  En route to a small town that lays way off the...      0     neg   \n",
       "24  Without wishing to be a killjoy, Brad Sykes is...      0     neg   \n",
       "25  My girlfriend once brought around The Zombie C...      0     neg   \n",
       "26  Amateur, no budget films can be surprisingly g...      0     neg   \n",
       "27  OK its not the best film I've ever seen but at...      0     neg   \n",
       "28  Some films that you pick up for a pound turn o...      0     pos   \n",
       "29  I received this movie as a gift, I knew from t...      0     neg   \n",
       "\n",
       "       pos_score     neg_score  clusters  \n",
       "0   1.000000e+00  3.020684e-12         2  \n",
       "1   3.434208e-01  6.565792e-01         4  \n",
       "2   4.291629e-01  5.708371e-01         3  \n",
       "3   9.214903e-01  7.850973e-02         2  \n",
       "4   5.606739e-02  9.439326e-01         1  \n",
       "5   7.881578e-03  9.921184e-01         1  \n",
       "6   8.443613e-01  1.556387e-01         0  \n",
       "7   9.995160e-01  4.839792e-04         2  \n",
       "8   9.999997e-01  3.241790e-07         2  \n",
       "9   9.805689e-01  1.943108e-02         2  \n",
       "10  9.975490e-01  2.451022e-03         2  \n",
       "11  6.554489e-01  3.445511e-01         0  \n",
       "12  6.588699e-03  9.934113e-01         1  \n",
       "13  9.797752e-01  2.022479e-02         2  \n",
       "14  9.988608e-01  1.139196e-03         2  \n",
       "15  3.266908e-01  6.733092e-01         4  \n",
       "16  5.949473e-03  9.940505e-01         1  \n",
       "17  9.995352e-01  4.648164e-04         2  \n",
       "18  4.626741e-02  9.537326e-01         1  \n",
       "19  1.252321e-02  9.874768e-01         1  \n",
       "20  8.736775e-01  1.263225e-01         0  \n",
       "21  7.052652e-01  2.947348e-01         0  \n",
       "22  3.159470e-02  9.684053e-01         1  \n",
       "23  6.281855e-02  9.371814e-01         1  \n",
       "24  1.542186e-04  9.998458e-01         1  \n",
       "25  3.510511e-02  9.648949e-01         1  \n",
       "26  1.673055e-07  9.999998e-01         1  \n",
       "27  3.231366e-01  6.768634e-01         4  \n",
       "28  8.038002e-01  1.961998e-01         0  \n",
       "29  3.546156e-05  9.999645e-01         1  "
      ]
     },
     "execution_count": 16,
     "metadata": {},
     "output_type": "execute_result"
    }
   ],
   "source": [
    "data.head(30)"
   ]
  },
  {
   "cell_type": "code",
   "execution_count": 23,
   "metadata": {},
   "outputs": [
    {
     "name": "stderr",
     "output_type": "stream",
     "text": [
      "/Users/a.okoh/opt/miniconda3/lib/python3.8/site-packages/sklearn/cluster/_kmeans.py:870: FutureWarning: The default value of `n_init` will change from 10 to 'auto' in 1.4. Set the value of `n_init` explicitly to suppress the warning\n",
      "  warnings.warn(\n",
      "/Users/a.okoh/opt/miniconda3/lib/python3.8/site-packages/sklearn/cluster/_kmeans.py:870: FutureWarning: The default value of `n_init` will change from 10 to 'auto' in 1.4. Set the value of `n_init` explicitly to suppress the warning\n",
      "  warnings.warn(\n",
      "/Users/a.okoh/opt/miniconda3/lib/python3.8/site-packages/sklearn/cluster/_kmeans.py:870: FutureWarning: The default value of `n_init` will change from 10 to 'auto' in 1.4. Set the value of `n_init` explicitly to suppress the warning\n",
      "  warnings.warn(\n",
      "/Users/a.okoh/opt/miniconda3/lib/python3.8/site-packages/sklearn/cluster/_kmeans.py:870: FutureWarning: The default value of `n_init` will change from 10 to 'auto' in 1.4. Set the value of `n_init` explicitly to suppress the warning\n",
      "  warnings.warn(\n",
      "/Users/a.okoh/opt/miniconda3/lib/python3.8/site-packages/sklearn/cluster/_kmeans.py:870: FutureWarning: The default value of `n_init` will change from 10 to 'auto' in 1.4. Set the value of `n_init` explicitly to suppress the warning\n",
      "  warnings.warn(\n",
      "/Users/a.okoh/opt/miniconda3/lib/python3.8/site-packages/sklearn/cluster/_kmeans.py:870: FutureWarning: The default value of `n_init` will change from 10 to 'auto' in 1.4. Set the value of `n_init` explicitly to suppress the warning\n",
      "  warnings.warn(\n",
      "/Users/a.okoh/opt/miniconda3/lib/python3.8/site-packages/sklearn/cluster/_kmeans.py:870: FutureWarning: The default value of `n_init` will change from 10 to 'auto' in 1.4. Set the value of `n_init` explicitly to suppress the warning\n",
      "  warnings.warn(\n",
      "/Users/a.okoh/opt/miniconda3/lib/python3.8/site-packages/sklearn/cluster/_kmeans.py:870: FutureWarning: The default value of `n_init` will change from 10 to 'auto' in 1.4. Set the value of `n_init` explicitly to suppress the warning\n",
      "  warnings.warn(\n",
      "/Users/a.okoh/opt/miniconda3/lib/python3.8/site-packages/sklearn/cluster/_kmeans.py:870: FutureWarning: The default value of `n_init` will change from 10 to 'auto' in 1.4. Set the value of `n_init` explicitly to suppress the warning\n",
      "  warnings.warn(\n"
     ]
    },
    {
     "data": {
      "image/png": "[encoded data removed]",
      "text/plain": [
       "<Figure size 800x550 with 2 Axes>"
      ]
     },
     "metadata": {},
     "output_type": "display_data"
    },
    {
     "data": {
      "text/plain": [
       "<AxesSubplot: title={'center': 'Distortion Score Elbow for KMeans Clustering'}, xlabel='k', ylabel='distortion score'>"
      ]
     },
     "execution_count": 23,
     "metadata": {},
     "output_type": "execute_result"
    }
   ],
   "source": [
    "model = KElbowVisualizer(KMeans(random_state=42),  k=10)\n",
    "model.fit(Xfeatures)\n",
    "model.show()"
   ]
  },
  {
   "cell_type": "code",
   "execution_count": 52,
   "metadata": {},
   "outputs": [
    {
     "name": "stderr",
     "output_type": "stream",
     "text": [
      "/Users/a.okoh/opt/miniconda3/lib/python3.8/site-packages/sklearn/cluster/_kmeans.py:870: FutureWarning: The default value of `n_init` will change from 10 to 'auto' in 1.4. Set the value of `n_init` explicitly to suppress the warning\n",
      "  warnings.warn(\n",
      "/Users/a.okoh/opt/miniconda3/lib/python3.8/site-packages/sklearn/manifold/_mds.py:299: FutureWarning: The default value of `normalized_stress` will change to `'auto'` in version 1.4. To suppress this warning, manually set the value of `normalized_stress`.\n",
      "  warnings.warn(\n"
     ]
    },
    {
     "data": {
      "image/png": "[encoded data removed]",
      "text/plain": [
       "<Figure size 800x550 with 2 Axes>"
      ]
     },
     "metadata": {},
     "output_type": "display_data"
    },
    {
     "data": {
      "text/plain": [
       "<AxesSubplot: title={'center': 'KMeans Intercluster Distance Map (via MDS)'}, xlabel='PC2', ylabel='PC1'>"
      ]
     },
     "execution_count": 52,
     "metadata": {},
     "output_type": "execute_result"
    }
   ],
   "source": [
    "from yellowbrick.cluster import InterclusterDistance\n",
    "model = KMeans(5, init =\"k-means++\",random_state=42)\n",
    "visualizer = InterclusterDistance(model)\n",
    "\n",
    "visualizer.fit(Xfeatures)        # Fit the data to the visualizer\n",
    "visualizer.show()        # Finalize and render the figure"
   ]
  },
  {
   "cell_type": "code",
   "execution_count": 60,
   "metadata": {},
   "outputs": [],
   "source": [
    "from sklearn.pipeline import Pipeline\n",
    "pipe = Pipeline([('kmeans', model)])"
   ]
  },
  {
   "cell_type": "code",
   "execution_count": 64,
   "metadata": {},
   "outputs": [
    {
     "data": {
      "text/plain": [
       "MlemModel(location=Location(path='/Users/a.okoh/Documents/year_highlight/model/22-12-2022-23:16:00_kmeans.mlem', project=None, rev=None, uri='file:///Users/a.okoh/Documents/year_highlight/model/22-12-2022-23:16:00_kmeans.mlem', project_uri=None, fs=<fsspec.implementations.local.LocalFileSystem object at 0x7fe3c9bf4310>), params={}, artifacts={'data': LocalArtifact(uri='22-12-2022-23:16:00_kmeans', size=100885, hash='aaf90d2272d0ab1107d247bf7f5baf21')}, requirements=Requirements(__root__=[InstallableRequirement(module='numpy', version='1.24.0', package_name=None, extra_index=None), InstallableRequirement(module='pandas', version='1.5.2', package_name=None, extra_index=None), InstallableRequirement(module='sklearn', version='1.2.0', package_name='scikit-learn', extra_index=None)]), processors_cache={'model': SklearnPipelineType(model=Pipeline(steps=[('kmeans', KMeans(n_clusters=5, random_state=42))]), io=SimplePickleIO(), methods={'predict': Signature(name='predict', args=[Argument(name='X', type_=DataFrameType(value=None, columns=['pos_score', 'neg_score'], dtypes=['float64', 'float64'], index_cols=[]), required=True, default=None, kw_only=False)], returns=NumpyNdarrayType(value=None, shape=(None,), dtype='int32'), varargs=None, varkw='predict_params')})}, call_orders={'predict': [('model', 'predict')]})"
      ]
     },
     "execution_count": 64,
     "metadata": {},
     "output_type": "execute_result"
    }
   ],
   "source": [
    " from mlem.api import save\n",
    "from datetime import datetime\n",
    "\n",
    "def get_time_stamp():\n",
    "    current_time = datetime.now()\n",
    "    time_stamp = current_time.timestamp()\n",
    "    date_time = datetime.fromtimestamp(time_stamp)\n",
    "    return date_time.strftime(\"%d-%m-%Y-%H:%M:%S\")\n",
    "\n",
    "timestamp = get_time_stamp()\n",
    "\n",
    "save(pipe,f\"model/{timestamp}_kmeans\",sample_data=Xfeatures,)"
   ]
  },
  {
   "cell_type": "code",
   "execution_count": null,
   "metadata": {},
   "outputs": [],
   "source": []
  }
 ],
 "metadata": {
  "interpreter": {
   "hash": "46c3242919834ed6c24711e2143a3f2e6fd4f0cecbea0ef95a968de7cca31f8e"
  },
  "kernelspec": {
   "display_name": "Python 3.8.10 ('base')",
   "language": "python",
   "name": "python3"
  },
  "language_info": {
   "codemirror_mode": {
    "name": "ipython",
    "version": 3
   },
   "file_extension": ".py",
   "mimetype": "text/x-python",
   "name": "python",
   "nbconvert_exporter": "python",
   "pygments_lexer": "ipython3",
   "version": "3.8.10"
  },
  "orig_nbformat": 4
 },
 "nbformat": 4,
 "nbformat_minor": 2
}
